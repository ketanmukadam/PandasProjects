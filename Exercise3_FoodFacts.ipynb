{
 "cells": [
  {
   "cell_type": "code",
   "execution_count": 2,
   "metadata": {},
   "outputs": [],
   "source": [
    "import pandas as pd"
   ]
  },
  {
   "cell_type": "code",
   "execution_count": 10,
   "metadata": {},
   "outputs": [
    {
     "name": "stderr",
     "output_type": "stream",
     "text": [
      "C:\\ProgramData\\Anaconda3\\lib\\site-packages\\IPython\\core\\interactiveshell.py:2728: DtypeWarning: Columns (0,3,5,17,18,19,20,24,25,26,27,28,30,36,37,38,39,48,61,62) have mixed types. Specify dtype option on import or set low_memory=False.\n",
      "  interactivity=interactivity, compiler=compiler, result=result)\n"
     ]
    }
   ],
   "source": [
    "food = pd.read_csv(\"Downloads\\\\foodfacts.csv\",sep='\\t')"
   ]
  },
  {
   "cell_type": "code",
   "execution_count": 11,
   "metadata": {},
   "outputs": [
    {
     "data": {
      "text/plain": [
       "pandas.core.frame.DataFrame"
      ]
     },
     "execution_count": 11,
     "metadata": {},
     "output_type": "execute_result"
    }
   ],
   "source": [
    "type(food)"
   ]
  },
  {
   "cell_type": "code",
   "execution_count": 12,
   "metadata": {},
   "outputs": [
    {
     "data": {
      "text/html": [
       "<div>\n",
       "<style scoped>\n",
       "    .dataframe tbody tr th:only-of-type {\n",
       "        vertical-align: middle;\n",
       "    }\n",
       "\n",
       "    .dataframe tbody tr th {\n",
       "        vertical-align: top;\n",
       "    }\n",
       "\n",
       "    .dataframe thead th {\n",
       "        text-align: right;\n",
       "    }\n",
       "</style>\n",
       "<table border=\"1\" class=\"dataframe\">\n",
       "  <thead>\n",
       "    <tr style=\"text-align: right;\">\n",
       "      <th></th>\n",
       "      <th>code</th>\n",
       "      <th>url</th>\n",
       "      <th>creator</th>\n",
       "      <th>created_t</th>\n",
       "      <th>created_datetime</th>\n",
       "      <th>last_modified_t</th>\n",
       "      <th>last_modified_datetime</th>\n",
       "      <th>product_name</th>\n",
       "      <th>generic_name</th>\n",
       "      <th>quantity</th>\n",
       "      <th>...</th>\n",
       "      <th>carbon-footprint_100g</th>\n",
       "      <th>nutrition-score-fr_100g</th>\n",
       "      <th>nutrition-score-uk_100g</th>\n",
       "      <th>glycemic-index_100g</th>\n",
       "      <th>water-hardness_100g</th>\n",
       "      <th>choline_100g</th>\n",
       "      <th>phylloquinone_100g</th>\n",
       "      <th>beta-glucan_100g</th>\n",
       "      <th>inositol_100g</th>\n",
       "      <th>carnitine_100g</th>\n",
       "    </tr>\n",
       "  </thead>\n",
       "  <tbody>\n",
       "    <tr>\n",
       "      <th>0</th>\n",
       "      <td>10</td>\n",
       "      <td>http://world-en.openfoodfacts.org/product/10/m...</td>\n",
       "      <td>jeanbono</td>\n",
       "      <td>1476947941</td>\n",
       "      <td>2016-10-20T07:19:01Z</td>\n",
       "      <td>1476954879</td>\n",
       "      <td>2016-10-20T09:14:39Z</td>\n",
       "      <td>Madeleines nature</td>\n",
       "      <td>NaN</td>\n",
       "      <td>880 g</td>\n",
       "      <td>...</td>\n",
       "      <td>NaN</td>\n",
       "      <td>12.0</td>\n",
       "      <td>12.0</td>\n",
       "      <td>NaN</td>\n",
       "      <td>NaN</td>\n",
       "      <td>NaN</td>\n",
       "      <td>NaN</td>\n",
       "      <td>NaN</td>\n",
       "      <td>NaN</td>\n",
       "      <td>NaN</td>\n",
       "    </tr>\n",
       "    <tr>\n",
       "      <th>1</th>\n",
       "      <td>11</td>\n",
       "      <td>http://world-en.openfoodfacts.org/product/11</td>\n",
       "      <td>date-limite-app</td>\n",
       "      <td>1481416371</td>\n",
       "      <td>2016-12-11T00:32:51Z</td>\n",
       "      <td>1481416371</td>\n",
       "      <td>2016-12-11T00:32:51Z</td>\n",
       "      <td>NaN</td>\n",
       "      <td>NaN</td>\n",
       "      <td>NaN</td>\n",
       "      <td>...</td>\n",
       "      <td>NaN</td>\n",
       "      <td>NaN</td>\n",
       "      <td>NaN</td>\n",
       "      <td>NaN</td>\n",
       "      <td>NaN</td>\n",
       "      <td>NaN</td>\n",
       "      <td>NaN</td>\n",
       "      <td>NaN</td>\n",
       "      <td>NaN</td>\n",
       "      <td>NaN</td>\n",
       "    </tr>\n",
       "    <tr>\n",
       "      <th>2</th>\n",
       "      <td>24</td>\n",
       "      <td>http://world-en.openfoodfacts.org/product/24/1...</td>\n",
       "      <td>allfitnessfactory-de</td>\n",
       "      <td>1484289130</td>\n",
       "      <td>2017-01-13T06:32:10Z</td>\n",
       "      <td>1490373603</td>\n",
       "      <td>2017-03-24T16:40:03Z</td>\n",
       "      <td>100% Soja Protein Vanille</td>\n",
       "      <td>100% Soja Protein Vanille Geschmack</td>\n",
       "      <td>2 kg</td>\n",
       "      <td>...</td>\n",
       "      <td>NaN</td>\n",
       "      <td>NaN</td>\n",
       "      <td>NaN</td>\n",
       "      <td>NaN</td>\n",
       "      <td>NaN</td>\n",
       "      <td>NaN</td>\n",
       "      <td>NaN</td>\n",
       "      <td>NaN</td>\n",
       "      <td>NaN</td>\n",
       "      <td>NaN</td>\n",
       "    </tr>\n",
       "    <tr>\n",
       "      <th>3</th>\n",
       "      <td>30</td>\n",
       "      <td>http://world-en.openfoodfacts.org/product/30/c...</td>\n",
       "      <td>beniben</td>\n",
       "      <td>1481840144</td>\n",
       "      <td>2016-12-15T22:15:44Z</td>\n",
       "      <td>1481840644</td>\n",
       "      <td>2016-12-15T22:24:04Z</td>\n",
       "      <td>Cakes Raisins</td>\n",
       "      <td>Pâtisseries aux raisins secs.</td>\n",
       "      <td>900 g</td>\n",
       "      <td>...</td>\n",
       "      <td>NaN</td>\n",
       "      <td>13.0</td>\n",
       "      <td>13.0</td>\n",
       "      <td>NaN</td>\n",
       "      <td>NaN</td>\n",
       "      <td>NaN</td>\n",
       "      <td>NaN</td>\n",
       "      <td>NaN</td>\n",
       "      <td>NaN</td>\n",
       "      <td>NaN</td>\n",
       "    </tr>\n",
       "    <tr>\n",
       "      <th>4</th>\n",
       "      <td>31</td>\n",
       "      <td>http://world-en.openfoodfacts.org/product/31/c...</td>\n",
       "      <td>beniben</td>\n",
       "      <td>1468014954</td>\n",
       "      <td>2016-07-08T21:55:54Z</td>\n",
       "      <td>1471551390</td>\n",
       "      <td>2016-08-18T20:16:30Z</td>\n",
       "      <td>Cakes aux Fruits</td>\n",
       "      <td>Pâtisseries aux fruits confits et aux raisins ...</td>\n",
       "      <td>600 g</td>\n",
       "      <td>...</td>\n",
       "      <td>NaN</td>\n",
       "      <td>12.0</td>\n",
       "      <td>12.0</td>\n",
       "      <td>NaN</td>\n",
       "      <td>NaN</td>\n",
       "      <td>NaN</td>\n",
       "      <td>NaN</td>\n",
       "      <td>NaN</td>\n",
       "      <td>NaN</td>\n",
       "      <td>NaN</td>\n",
       "    </tr>\n",
       "  </tbody>\n",
       "</table>\n",
       "<p>5 rows × 168 columns</p>\n",
       "</div>"
      ],
      "text/plain": [
       "  code                                                url  \\\n",
       "0   10  http://world-en.openfoodfacts.org/product/10/m...   \n",
       "1   11       http://world-en.openfoodfacts.org/product/11   \n",
       "2   24  http://world-en.openfoodfacts.org/product/24/1...   \n",
       "3   30  http://world-en.openfoodfacts.org/product/30/c...   \n",
       "4   31  http://world-en.openfoodfacts.org/product/31/c...   \n",
       "\n",
       "                creator   created_t      created_datetime last_modified_t  \\\n",
       "0              jeanbono  1476947941  2016-10-20T07:19:01Z      1476954879   \n",
       "1       date-limite-app  1481416371  2016-12-11T00:32:51Z      1481416371   \n",
       "2  allfitnessfactory-de  1484289130  2017-01-13T06:32:10Z      1490373603   \n",
       "3               beniben  1481840144  2016-12-15T22:15:44Z      1481840644   \n",
       "4               beniben  1468014954  2016-07-08T21:55:54Z      1471551390   \n",
       "\n",
       "  last_modified_datetime               product_name  \\\n",
       "0   2016-10-20T09:14:39Z          Madeleines nature   \n",
       "1   2016-12-11T00:32:51Z                        NaN   \n",
       "2   2017-03-24T16:40:03Z  100% Soja Protein Vanille   \n",
       "3   2016-12-15T22:24:04Z              Cakes Raisins   \n",
       "4   2016-08-18T20:16:30Z           Cakes aux Fruits   \n",
       "\n",
       "                                        generic_name quantity      ...        \\\n",
       "0                                                NaN    880 g      ...         \n",
       "1                                                NaN      NaN      ...         \n",
       "2                100% Soja Protein Vanille Geschmack     2 kg      ...         \n",
       "3                      Pâtisseries aux raisins secs.    900 g      ...         \n",
       "4  Pâtisseries aux fruits confits et aux raisins ...    600 g      ...         \n",
       "\n",
       "  carbon-footprint_100g nutrition-score-fr_100g nutrition-score-uk_100g  \\\n",
       "0                   NaN                    12.0                    12.0   \n",
       "1                   NaN                     NaN                     NaN   \n",
       "2                   NaN                     NaN                     NaN   \n",
       "3                   NaN                    13.0                    13.0   \n",
       "4                   NaN                    12.0                    12.0   \n",
       "\n",
       "  glycemic-index_100g water-hardness_100g choline_100g phylloquinone_100g  \\\n",
       "0                 NaN                 NaN          NaN                NaN   \n",
       "1                 NaN                 NaN          NaN                NaN   \n",
       "2                 NaN                 NaN          NaN                NaN   \n",
       "3                 NaN                 NaN          NaN                NaN   \n",
       "4                 NaN                 NaN          NaN                NaN   \n",
       "\n",
       "  beta-glucan_100g inositol_100g carnitine_100g  \n",
       "0              NaN           NaN            NaN  \n",
       "1              NaN           NaN            NaN  \n",
       "2              NaN           NaN            NaN  \n",
       "3              NaN           NaN            NaN  \n",
       "4              NaN           NaN            NaN  \n",
       "\n",
       "[5 rows x 168 columns]"
      ]
     },
     "execution_count": 12,
     "metadata": {},
     "output_type": "execute_result"
    }
   ],
   "source": [
    "food.head()"
   ]
  },
  {
   "cell_type": "code",
   "execution_count": 13,
   "metadata": {},
   "outputs": [
    {
     "data": {
      "text/plain": [
       "(439935, 168)"
      ]
     },
     "execution_count": 13,
     "metadata": {},
     "output_type": "execute_result"
    }
   ],
   "source": [
    "food.shape"
   ]
  },
  {
   "cell_type": "code",
   "execution_count": 14,
   "metadata": {},
   "outputs": [
    {
     "data": {
      "text/plain": [
       "Index(['code', 'url', 'creator', 'created_t', 'created_datetime',\n",
       "       'last_modified_t', 'last_modified_datetime', 'product_name',\n",
       "       'generic_name', 'quantity',\n",
       "       ...\n",
       "       'carbon-footprint_100g', 'nutrition-score-fr_100g',\n",
       "       'nutrition-score-uk_100g', 'glycemic-index_100g', 'water-hardness_100g',\n",
       "       'choline_100g', 'phylloquinone_100g', 'beta-glucan_100g',\n",
       "       'inositol_100g', 'carnitine_100g'],\n",
       "      dtype='object', length=168)"
      ]
     },
     "execution_count": 14,
     "metadata": {},
     "output_type": "execute_result"
    }
   ],
   "source": [
    "food.columns"
   ]
  },
  {
   "cell_type": "code",
   "execution_count": 15,
   "metadata": {},
   "outputs": [
    {
     "data": {
      "text/plain": [
       "'-fructose_100g'"
      ]
     },
     "execution_count": 15,
     "metadata": {},
     "output_type": "execute_result"
    }
   ],
   "source": [
    "food.columns[105]"
   ]
  },
  {
   "cell_type": "code",
   "execution_count": 18,
   "metadata": {},
   "outputs": [
    {
     "data": {
      "text/plain": [
       "'Flat Leaf Parsley'"
      ]
     },
     "execution_count": 18,
     "metadata": {},
     "output_type": "execute_result"
    }
   ],
   "source": [
    "food.values[19][7]"
   ]
  },
  {
   "cell_type": "code",
   "execution_count": 21,
   "metadata": {},
   "outputs": [
    {
     "data": {
      "text/plain": [
       "array(['Madeleines nature', nan, '100% Soja Protein Vanille', ...,\n",
       "       'Alwani Sagai Dates', 'Choco pearls', 'Kabanos'], dtype=object)"
      ]
     },
     "execution_count": 21,
     "metadata": {},
     "output_type": "execute_result"
    }
   ],
   "source": [
    "food['product_name'].unique()"
   ]
  },
  {
   "cell_type": "code",
   "execution_count": 33,
   "metadata": {},
   "outputs": [
    {
     "data": {
      "text/plain": [
       "0                                  880 g\n",
       "2                                   2 kg\n",
       "3                                  900 g\n",
       "4                                  600 g\n",
       "5                 660 g (30 pâtisseries)\n",
       "6           660 g (30 étuis individuels)\n",
       "7                                   980g\n",
       "8           740 g (20 étuis individuels)\n",
       "9                                      1\n",
       "11                                 370 g\n",
       "12                                     6\n",
       "15            280 g (4 étuis de 6 brins)\n",
       "19                                  25 g\n",
       "21                                   1kg\n",
       "22                                 792 g\n",
       "23                              1 papaya\n",
       "25                               1 Bunch\n",
       "35                                  50 g\n",
       "36                                 250 g\n",
       "37                               225 g e\n",
       "38                               225 g e\n",
       "39                               225 g e\n",
       "40                               225 g e\n",
       "41                                 225 g\n",
       "42                                 320 g\n",
       "44                                  230g\n",
       "45                                 400 g\n",
       "46                                 400 g\n",
       "47                                 454 g\n",
       "48                32 FL OZ (1 QT) 946 mL\n",
       "                       ...              \n",
       "439835                           18,66kg\n",
       "439840                             510 g\n",
       "439841    230,5g, 11gx8, 7,5gx12, 7,5gx7\n",
       "439848                                 1\n",
       "439855                         Magazine \n",
       "439857                             100 g\n",
       "439858                              100g\n",
       "439859                            0.75 L\n",
       "439861                             75 cL\n",
       "439862                            0,75 L\n",
       "439875                            250 ml\n",
       "439879                                24\n",
       "439881                              70 g\n",
       "439884                              50 g\n",
       "439891                                 1\n",
       "439901                              33cl\n",
       "439902                            330 ml\n",
       "439906                             500 g\n",
       "439909                             250 g\n",
       "439910                                 2\n",
       "439911                                1L\n",
       "439914                              1 kg\n",
       "439916                            750 ml\n",
       "439917                              170g\n",
       "439919                              50 g\n",
       "439922                             180 g\n",
       "439924                                 1\n",
       "439929                              50 g\n",
       "439930                               67g\n",
       "439931                              1 kg\n",
       "Name: quantity, Length: 137874, dtype: object"
      ]
     },
     "execution_count": 33,
     "metadata": {},
     "output_type": "execute_result"
    }
   ],
   "source": [
    "food[food['quantity'].notnull()]['quantity']"
   ]
  },
  {
   "cell_type": "code",
   "execution_count": null,
   "metadata": {},
   "outputs": [],
   "source": []
  }
 ],
 "metadata": {
  "kernelspec": {
   "display_name": "Python 3",
   "language": "python",
   "name": "python3"
  },
  "language_info": {
   "codemirror_mode": {
    "name": "ipython",
    "version": 3
   },
   "file_extension": ".py",
   "mimetype": "text/x-python",
   "name": "python",
   "nbconvert_exporter": "python",
   "pygments_lexer": "ipython3",
   "version": "3.6.4"
  }
 },
 "nbformat": 4,
 "nbformat_minor": 2
}
